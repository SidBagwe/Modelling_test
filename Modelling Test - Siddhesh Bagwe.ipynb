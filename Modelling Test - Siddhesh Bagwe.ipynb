{
 "cells": [
  {
   "cell_type": "markdown",
   "id": "4ff43229",
   "metadata": {},
   "source": [
    "# Modelling test"
   ]
  },
  {
   "cell_type": "markdown",
   "id": "929b4cf0",
   "metadata": {},
   "source": [
    "### Importing the libraries"
   ]
  },
  {
   "cell_type": "code",
   "execution_count": 65,
   "id": "89af63c2",
   "metadata": {},
   "outputs": [],
   "source": [
    "import pandas as pd\n",
    "import os\n",
    "import json\n",
    "import seaborn as sns\n",
    "from sklearn.metrics import classification_report\n",
    "from sklearn.ensemble import RandomForestClassifier\n",
    "from sklearn.ensemble import RandomForestRegressor\n",
    "from sklearn.linear_model import LogisticRegression\n",
    "from sklearn.tree import DecisionTreeRegressor\n",
    "from sklearn.model_selection import GridSearchCV\n",
    "from sklearn.model_selection import train_test_split\n",
    "from sklearn.metrics import roc_auc_score"
   ]
  },
  {
   "cell_type": "markdown",
   "id": "5eed0fe4",
   "metadata": {},
   "source": [
    "### Preparing the data"
   ]
  },
  {
   "cell_type": "code",
   "execution_count": 66,
   "id": "7bdd8ffd",
   "metadata": {},
   "outputs": [],
   "source": [
    "os.chdir('C:\\\\Users\\\\hp\\\\Downloads\\\\senior_ds_test\\\\data\\\\train')"
   ]
  },
  {
   "cell_type": "code",
   "execution_count": 67,
   "id": "154cb0b3",
   "metadata": {},
   "outputs": [],
   "source": [
    "with open('accounts_data_train.json') as f:\n",
    "   data = json.load(f)\n",
    "\n",
    "flattened_data = [item for sublist in data for item in sublist]\n",
    "accounts = pd.DataFrame(flattened_data)"
   ]
  },
  {
   "cell_type": "code",
   "execution_count": 68,
   "id": "cd01433f",
   "metadata": {},
   "outputs": [],
   "source": [
    "with open('enquiry_data_train.json') as f:\n",
    "   data = json.load(f)\n",
    "\n",
    "flattened_data = [item for sublist in data for item in sublist]\n",
    "enquiry = pd.DataFrame(flattened_data)"
   ]
  },
  {
   "cell_type": "markdown",
   "id": "00e19b47",
   "metadata": {},
   "source": [
    "As the data consisted of a list of dictionaries it wasn't possible to import it directly using pandas.read_json. Here I have flattened the data first and then converted it to a dataframe"
   ]
  },
  {
   "cell_type": "code",
   "execution_count": 69,
   "id": "91cc500c",
   "metadata": {},
   "outputs": [],
   "source": [
    "flag = pd.read_csv(\"train_flag.csv\")"
   ]
  },
  {
   "cell_type": "code",
   "execution_count": 70,
   "id": "451837fb",
   "metadata": {},
   "outputs": [
    {
     "name": "stdout",
     "output_type": "stream",
     "text": [
      "<class 'pandas.core.frame.DataFrame'>\n",
      "RangeIndex: 1245310 entries, 0 to 1245309\n",
      "Data columns (total 7 columns):\n",
      " #   Column               Non-Null Count    Dtype  \n",
      "---  ------               --------------    -----  \n",
      " 0   credit_type          1245310 non-null  object \n",
      " 1   loan_amount          1245307 non-null  float64\n",
      " 2   amount_overdue       1245310 non-null  float64\n",
      " 3   open_date            1245310 non-null  object \n",
      " 4   closed_date          782275 non-null   object \n",
      " 5   payment_hist_string  1245310 non-null  object \n",
      " 6   uid                  1245310 non-null  object \n",
      "dtypes: float64(2), object(5)\n",
      "memory usage: 66.5+ MB\n"
     ]
    }
   ],
   "source": [
    "accounts.info()"
   ]
  },
  {
   "cell_type": "code",
   "execution_count": 71,
   "id": "6078476c",
   "metadata": {},
   "outputs": [
    {
     "name": "stdout",
     "output_type": "stream",
     "text": [
      "<class 'pandas.core.frame.DataFrame'>\n",
      "RangeIndex: 1909926 entries, 0 to 1909925\n",
      "Data columns (total 4 columns):\n",
      " #   Column        Dtype \n",
      "---  ------        ----- \n",
      " 0   enquiry_type  object\n",
      " 1   enquiry_amt   int64 \n",
      " 2   enquiry_date  object\n",
      " 3   uid           object\n",
      "dtypes: int64(1), object(3)\n",
      "memory usage: 58.3+ MB\n"
     ]
    }
   ],
   "source": [
    "enquiry.info()"
   ]
  },
  {
   "cell_type": "code",
   "execution_count": 72,
   "id": "32a5ef7a",
   "metadata": {},
   "outputs": [
    {
     "name": "stdout",
     "output_type": "stream",
     "text": [
      "<class 'pandas.core.frame.DataFrame'>\n",
      "RangeIndex: 261383 entries, 0 to 261382\n",
      "Data columns (total 3 columns):\n",
      " #   Column              Non-Null Count   Dtype \n",
      "---  ------              --------------   ----- \n",
      " 0   uid                 261383 non-null  object\n",
      " 1   NAME_CONTRACT_TYPE  261383 non-null  object\n",
      " 2   TARGET              261383 non-null  int64 \n",
      "dtypes: int64(1), object(2)\n",
      "memory usage: 6.0+ MB\n"
     ]
    }
   ],
   "source": [
    "flag.info()"
   ]
  },
  {
   "cell_type": "markdown",
   "id": "b4a925fa",
   "metadata": {},
   "source": [
    "As we would need to merge the datasets to create a dataframe for our model we need to check the rows which are present in all the data frames"
   ]
  },
  {
   "cell_type": "code",
   "execution_count": 73,
   "id": "3e54b48a",
   "metadata": {},
   "outputs": [
    {
     "data": {
      "text/plain": [
       "223918"
      ]
     },
     "execution_count": 73,
     "metadata": {},
     "output_type": "execute_result"
    }
   ],
   "source": [
    "accounts[accounts['uid'].isin(enquiry['uid']) & accounts['uid'].isin(flag['uid'])]['uid'].nunique()"
   ]
  },
  {
   "cell_type": "markdown",
   "id": "ed596220",
   "metadata": {},
   "source": [
    "This shows that we have 223918 entries common for all the datasets. Finally we will merge the datasets to create our final data for modelling"
   ]
  },
  {
   "cell_type": "code",
   "execution_count": 74,
   "id": "65cf42b0",
   "metadata": {},
   "outputs": [],
   "source": [
    "data=pd.merge(pd.merge(accounts,enquiry,on='uid'),flag,on='uid')"
   ]
  },
  {
   "cell_type": "code",
   "execution_count": 75,
   "id": "decc77af",
   "metadata": {},
   "outputs": [],
   "source": [
    "data.drop_duplicates(subset=['uid'],inplace=True)"
   ]
  },
  {
   "cell_type": "markdown",
   "id": "fc28d7d3",
   "metadata": {},
   "source": [
    "### EDA of the final data"
   ]
  },
  {
   "cell_type": "code",
   "execution_count": 76,
   "id": "ee0fb454",
   "metadata": {},
   "outputs": [
    {
     "name": "stdout",
     "output_type": "stream",
     "text": [
      "<class 'pandas.core.frame.DataFrame'>\n",
      "Int64Index: 223918 entries, 0 to 9102571\n",
      "Data columns (total 12 columns):\n",
      " #   Column               Non-Null Count   Dtype  \n",
      "---  ------               --------------   -----  \n",
      " 0   credit_type          223918 non-null  object \n",
      " 1   loan_amount          223916 non-null  float64\n",
      " 2   amount_overdue       223918 non-null  float64\n",
      " 3   open_date            223918 non-null  object \n",
      " 4   closed_date          151833 non-null  object \n",
      " 5   payment_hist_string  223918 non-null  object \n",
      " 6   uid                  223918 non-null  object \n",
      " 7   enquiry_type         223918 non-null  object \n",
      " 8   enquiry_amt          223918 non-null  int64  \n",
      " 9   enquiry_date         223918 non-null  object \n",
      " 10  NAME_CONTRACT_TYPE   223918 non-null  object \n",
      " 11  TARGET               223918 non-null  int64  \n",
      "dtypes: float64(2), int64(2), object(8)\n",
      "memory usage: 22.2+ MB\n"
     ]
    }
   ],
   "source": [
    "data.info()"
   ]
  },
  {
   "cell_type": "code",
   "execution_count": 77,
   "id": "45adfb30",
   "metadata": {},
   "outputs": [
    {
     "data": {
      "text/plain": [
       "credit_type                0\n",
       "loan_amount                2\n",
       "amount_overdue             0\n",
       "open_date                  0\n",
       "closed_date            72085\n",
       "payment_hist_string        0\n",
       "uid                        0\n",
       "enquiry_type               0\n",
       "enquiry_amt                0\n",
       "enquiry_date               0\n",
       "NAME_CONTRACT_TYPE         0\n",
       "TARGET                     0\n",
       "dtype: int64"
      ]
     },
     "execution_count": 77,
     "metadata": {},
     "output_type": "execute_result"
    }
   ],
   "source": [
    "data.isnull().sum()"
   ]
  },
  {
   "cell_type": "markdown",
   "id": "c645408c",
   "metadata": {},
   "source": [
    "We already know that the closed_date has null data. We will transform it and remove the rows with missing loan amount."
   ]
  },
  {
   "cell_type": "code",
   "execution_count": 78,
   "id": "f3315c11",
   "metadata": {},
   "outputs": [],
   "source": [
    "data['closed_date'] = data['closed_date'].fillna(0)"
   ]
  },
  {
   "cell_type": "code",
   "execution_count": 79,
   "id": "6de03c00",
   "metadata": {},
   "outputs": [],
   "source": [
    "data = data.dropna()"
   ]
  },
  {
   "cell_type": "markdown",
   "id": "48394010",
   "metadata": {},
   "source": [
    "After dropping all the NA values, we need to factorize the categorical variables so that we can use the data to fit our model."
   ]
  },
  {
   "cell_type": "code",
   "execution_count": 80,
   "id": "5903d9a9",
   "metadata": {},
   "outputs": [],
   "source": [
    "data[['credit_type', 'enquiry_type', 'NAME_CONTRACT_TYPE']] = data[['credit_type', 'enquiry_type', 'NAME_CONTRACT_TYPE']].apply(lambda x: pd.factorize(x)[0])"
   ]
  },
  {
   "cell_type": "markdown",
   "id": "cb3e667f",
   "metadata": {},
   "source": [
    "Finally, we convert the payment_hist_string to a variable days_overdue to get an idea of how many days the borrower was overdue by"
   ]
  },
  {
   "cell_type": "code",
   "execution_count": 81,
   "id": "6071ac12",
   "metadata": {},
   "outputs": [],
   "source": [
    "def days_overdue(list):\n",
    "    a = sum(int(month) for month in list)\n",
    "    return a"
   ]
  },
  {
   "cell_type": "code",
   "execution_count": 82,
   "id": "22308aec",
   "metadata": {},
   "outputs": [],
   "source": [
    "data['days_overdue'] = data['payment_hist_string'].apply(days_overdue)"
   ]
  },
  {
   "cell_type": "code",
   "execution_count": 83,
   "id": "9523b2b8",
   "metadata": {},
   "outputs": [],
   "source": [
    "data['loan_cleared'] = data['closed_date'].apply(lambda x: 0 if x == 0 else 1)"
   ]
  },
  {
   "cell_type": "markdown",
   "id": "a884cf2f",
   "metadata": {},
   "source": [
    "Next we will use the closed_date variable to check if the borrower cleared the previous loan or not."
   ]
  },
  {
   "cell_type": "code",
   "execution_count": 84,
   "id": "2a3354b0",
   "metadata": {},
   "outputs": [
    {
     "data": {
      "text/html": [
       "<div>\n",
       "<style scoped>\n",
       "    .dataframe tbody tr th:only-of-type {\n",
       "        vertical-align: middle;\n",
       "    }\n",
       "\n",
       "    .dataframe tbody tr th {\n",
       "        vertical-align: top;\n",
       "    }\n",
       "\n",
       "    .dataframe thead th {\n",
       "        text-align: right;\n",
       "    }\n",
       "</style>\n",
       "<table border=\"1\" class=\"dataframe\">\n",
       "  <thead>\n",
       "    <tr style=\"text-align: right;\">\n",
       "      <th></th>\n",
       "      <th>credit_type</th>\n",
       "      <th>loan_amount</th>\n",
       "      <th>amount_overdue</th>\n",
       "      <th>enquiry_type</th>\n",
       "      <th>enquiry_amt</th>\n",
       "      <th>NAME_CONTRACT_TYPE</th>\n",
       "      <th>TARGET</th>\n",
       "      <th>days_overdue</th>\n",
       "      <th>loan_cleared</th>\n",
       "    </tr>\n",
       "  </thead>\n",
       "  <tbody>\n",
       "    <tr>\n",
       "      <th>credit_type</th>\n",
       "      <td>1.000000</td>\n",
       "      <td>0.258159</td>\n",
       "      <td>0.009856</td>\n",
       "      <td>-0.001814</td>\n",
       "      <td>0.016379</td>\n",
       "      <td>0.023885</td>\n",
       "      <td>0.009319</td>\n",
       "      <td>0.023987</td>\n",
       "      <td>-0.364794</td>\n",
       "    </tr>\n",
       "    <tr>\n",
       "      <th>loan_amount</th>\n",
       "      <td>0.258159</td>\n",
       "      <td>1.000000</td>\n",
       "      <td>0.002678</td>\n",
       "      <td>0.000551</td>\n",
       "      <td>0.008902</td>\n",
       "      <td>0.014513</td>\n",
       "      <td>-0.013363</td>\n",
       "      <td>0.012837</td>\n",
       "      <td>-0.094128</td>\n",
       "    </tr>\n",
       "    <tr>\n",
       "      <th>amount_overdue</th>\n",
       "      <td>0.009856</td>\n",
       "      <td>0.002678</td>\n",
       "      <td>1.000000</td>\n",
       "      <td>-0.000638</td>\n",
       "      <td>-0.000524</td>\n",
       "      <td>0.002437</td>\n",
       "      <td>0.006518</td>\n",
       "      <td>0.056521</td>\n",
       "      <td>-0.009079</td>\n",
       "    </tr>\n",
       "    <tr>\n",
       "      <th>enquiry_type</th>\n",
       "      <td>-0.001814</td>\n",
       "      <td>0.000551</td>\n",
       "      <td>-0.000638</td>\n",
       "      <td>1.000000</td>\n",
       "      <td>0.003292</td>\n",
       "      <td>0.007376</td>\n",
       "      <td>-0.002288</td>\n",
       "      <td>0.000072</td>\n",
       "      <td>0.000283</td>\n",
       "    </tr>\n",
       "    <tr>\n",
       "      <th>enquiry_amt</th>\n",
       "      <td>0.016379</td>\n",
       "      <td>0.008902</td>\n",
       "      <td>-0.000524</td>\n",
       "      <td>0.003292</td>\n",
       "      <td>1.000000</td>\n",
       "      <td>0.527877</td>\n",
       "      <td>-0.015379</td>\n",
       "      <td>0.001045</td>\n",
       "      <td>-0.010210</td>\n",
       "    </tr>\n",
       "    <tr>\n",
       "      <th>NAME_CONTRACT_TYPE</th>\n",
       "      <td>0.023885</td>\n",
       "      <td>0.014513</td>\n",
       "      <td>0.002437</td>\n",
       "      <td>0.007376</td>\n",
       "      <td>0.527877</td>\n",
       "      <td>1.000000</td>\n",
       "      <td>-0.030450</td>\n",
       "      <td>-0.001038</td>\n",
       "      <td>-0.017117</td>\n",
       "    </tr>\n",
       "    <tr>\n",
       "      <th>TARGET</th>\n",
       "      <td>0.009319</td>\n",
       "      <td>-0.013363</td>\n",
       "      <td>0.006518</td>\n",
       "      <td>-0.002288</td>\n",
       "      <td>-0.015379</td>\n",
       "      <td>-0.030450</td>\n",
       "      <td>1.000000</td>\n",
       "      <td>0.002071</td>\n",
       "      <td>-0.042780</td>\n",
       "    </tr>\n",
       "    <tr>\n",
       "      <th>days_overdue</th>\n",
       "      <td>0.023987</td>\n",
       "      <td>0.012837</td>\n",
       "      <td>0.056521</td>\n",
       "      <td>0.000072</td>\n",
       "      <td>0.001045</td>\n",
       "      <td>-0.001038</td>\n",
       "      <td>0.002071</td>\n",
       "      <td>1.000000</td>\n",
       "      <td>-0.049653</td>\n",
       "    </tr>\n",
       "    <tr>\n",
       "      <th>loan_cleared</th>\n",
       "      <td>-0.364794</td>\n",
       "      <td>-0.094128</td>\n",
       "      <td>-0.009079</td>\n",
       "      <td>0.000283</td>\n",
       "      <td>-0.010210</td>\n",
       "      <td>-0.017117</td>\n",
       "      <td>-0.042780</td>\n",
       "      <td>-0.049653</td>\n",
       "      <td>1.000000</td>\n",
       "    </tr>\n",
       "  </tbody>\n",
       "</table>\n",
       "</div>"
      ],
      "text/plain": [
       "                    credit_type  loan_amount  amount_overdue  enquiry_type  \\\n",
       "credit_type            1.000000     0.258159        0.009856     -0.001814   \n",
       "loan_amount            0.258159     1.000000        0.002678      0.000551   \n",
       "amount_overdue         0.009856     0.002678        1.000000     -0.000638   \n",
       "enquiry_type          -0.001814     0.000551       -0.000638      1.000000   \n",
       "enquiry_amt            0.016379     0.008902       -0.000524      0.003292   \n",
       "NAME_CONTRACT_TYPE     0.023885     0.014513        0.002437      0.007376   \n",
       "TARGET                 0.009319    -0.013363        0.006518     -0.002288   \n",
       "days_overdue           0.023987     0.012837        0.056521      0.000072   \n",
       "loan_cleared          -0.364794    -0.094128       -0.009079      0.000283   \n",
       "\n",
       "                    enquiry_amt  NAME_CONTRACT_TYPE    TARGET  days_overdue  \\\n",
       "credit_type            0.016379            0.023885  0.009319      0.023987   \n",
       "loan_amount            0.008902            0.014513 -0.013363      0.012837   \n",
       "amount_overdue        -0.000524            0.002437  0.006518      0.056521   \n",
       "enquiry_type           0.003292            0.007376 -0.002288      0.000072   \n",
       "enquiry_amt            1.000000            0.527877 -0.015379      0.001045   \n",
       "NAME_CONTRACT_TYPE     0.527877            1.000000 -0.030450     -0.001038   \n",
       "TARGET                -0.015379           -0.030450  1.000000      0.002071   \n",
       "days_overdue           0.001045           -0.001038  0.002071      1.000000   \n",
       "loan_cleared          -0.010210           -0.017117 -0.042780     -0.049653   \n",
       "\n",
       "                    loan_cleared  \n",
       "credit_type            -0.364794  \n",
       "loan_amount            -0.094128  \n",
       "amount_overdue         -0.009079  \n",
       "enquiry_type            0.000283  \n",
       "enquiry_amt            -0.010210  \n",
       "NAME_CONTRACT_TYPE     -0.017117  \n",
       "TARGET                 -0.042780  \n",
       "days_overdue           -0.049653  \n",
       "loan_cleared            1.000000  "
      ]
     },
     "execution_count": 84,
     "metadata": {},
     "output_type": "execute_result"
    }
   ],
   "source": [
    "corr_matrix = data.corr()\n",
    "corr_matrix"
   ]
  },
  {
   "cell_type": "markdown",
   "id": "f00677ba",
   "metadata": {},
   "source": [
    "Finally we check the correlation matrix to check how the variables are correlated to each other. Also we will check how they are related to the Target variable that we need to predict"
   ]
  },
  {
   "cell_type": "code",
   "execution_count": 85,
   "id": "e1ca0e63",
   "metadata": {},
   "outputs": [
    {
     "data": {
      "text/plain": [
       "TARGET                1.000000\n",
       "loan_cleared          0.042780\n",
       "NAME_CONTRACT_TYPE    0.030450\n",
       "enquiry_amt           0.015379\n",
       "loan_amount           0.013363\n",
       "credit_type           0.009319\n",
       "amount_overdue        0.006518\n",
       "enquiry_type          0.002288\n",
       "days_overdue          0.002071\n",
       "Name: TARGET, dtype: float64"
      ]
     },
     "execution_count": 85,
     "metadata": {},
     "output_type": "execute_result"
    }
   ],
   "source": [
    "corr_matrix['TARGET'].abs().sort_values(ascending=False)"
   ]
  },
  {
   "cell_type": "code",
   "execution_count": 86,
   "id": "4e930676",
   "metadata": {},
   "outputs": [],
   "source": [
    "X = data.drop(['open_date','closed_date', 'uid','enquiry_date','TARGET','payment_hist_string'], axis = 1)"
   ]
  },
  {
   "cell_type": "code",
   "execution_count": 87,
   "id": "fb3f7564",
   "metadata": {},
   "outputs": [],
   "source": [
    "Y = data['TARGET']"
   ]
  },
  {
   "cell_type": "code",
   "execution_count": 88,
   "id": "c30e9007",
   "metadata": {},
   "outputs": [],
   "source": [
    "x_train, x_val, y_train, y_val = train_test_split(X, Y, test_size=0.2, random_state=42)"
   ]
  },
  {
   "cell_type": "markdown",
   "id": "f30586f0",
   "metadata": {},
   "source": [
    "As we don't have the test outputs, we will use the train set to create the validation set to check how well our models can perform on unseen data"
   ]
  },
  {
   "cell_type": "markdown",
   "id": "c49b5476",
   "metadata": {},
   "source": [
    "### Creating the models"
   ]
  },
  {
   "cell_type": "markdown",
   "id": "626ed416",
   "metadata": {},
   "source": [
    "For the purpose of the problem, we will create different models using both regression and classification to check which model provides the best auc score for the data"
   ]
  },
  {
   "cell_type": "code",
   "execution_count": 89,
   "id": "0f54bf43",
   "metadata": {},
   "outputs": [
    {
     "name": "stdout",
     "output_type": "stream",
     "text": [
      "AUC Score: 0.5\n"
     ]
    }
   ],
   "source": [
    "model = LogisticRegression()\n",
    "model.fit(x_train, y_train)\n",
    "auc = roc_auc_score(y_val, model.predict(x_val))\n",
    "print(\"AUC Score:\", auc)"
   ]
  },
  {
   "cell_type": "code",
   "execution_count": 90,
   "id": "b985cfb7",
   "metadata": {},
   "outputs": [
    {
     "name": "stdout",
     "output_type": "stream",
     "text": [
      "AUC Score: 0.5627958287954888\n"
     ]
    }
   ],
   "source": [
    "tree = DecisionTreeRegressor(max_depth=5, random_state=42)\n",
    "tree.fit(x_train, y_train)\n",
    "auc1 = roc_auc_score(y_val, tree.predict(x_val))\n",
    "print(\"AUC Score:\", auc1)"
   ]
  },
  {
   "cell_type": "code",
   "execution_count": 91,
   "id": "2494811b",
   "metadata": {},
   "outputs": [
    {
     "name": "stdout",
     "output_type": "stream",
     "text": [
      "AUC Score: 0.508727014024075\n"
     ]
    }
   ],
   "source": [
    "rf = RandomForestRegressor(n_estimators = 10)\n",
    "rf.fit(x_train, y_train)\n",
    "auc2 = roc_auc_score(y_val, rf.predict(x_val))\n",
    "print(\"AUC Score:\", auc2)"
   ]
  },
  {
   "cell_type": "code",
   "execution_count": 93,
   "id": "940d3b4e",
   "metadata": {},
   "outputs": [
    {
     "name": "stdout",
     "output_type": "stream",
     "text": [
      "AUC Score: 0.4988931623630984\n"
     ]
    }
   ],
   "source": [
    "rfc = RandomForestClassifier(n_estimators = 100)\n",
    "rfc.fit(x_train, y_train)\n",
    "auc3 = roc_auc_score(y_val, rfc.predict(x_val))\n",
    "print(\"AUC Score:\", auc3)"
   ]
  },
  {
   "cell_type": "markdown",
   "id": "3d858bed",
   "metadata": {},
   "source": [
    "From the training data we see that Decision Tree Regressor provides the best result for the data. Although, it is not a great model but does give better predictions than the others."
   ]
  },
  {
   "cell_type": "code",
   "execution_count": 101,
   "id": "7418a96d",
   "metadata": {},
   "outputs": [
    {
     "name": "stdout",
     "output_type": "stream",
     "text": [
      "206659\n",
      "17257\n"
     ]
    }
   ],
   "source": [
    "print(data[data['TARGET']==0]['TARGET'].count())\n",
    "print(data[data['TARGET']==1]['TARGET'].count())"
   ]
  },
  {
   "cell_type": "markdown",
   "id": "9bd63f65",
   "metadata": {},
   "source": [
    "From the count of TARGET variable which we are predicting, it can be seen that there is a severe imbalance between the two classes which may be the cause behind the low auc score for the models here."
   ]
  },
  {
   "cell_type": "markdown",
   "id": "4273eec3",
   "metadata": {},
   "source": [
    "### Hyperparameter tuning"
   ]
  },
  {
   "cell_type": "markdown",
   "id": "ed21de10",
   "metadata": {},
   "source": [
    "For our chosen model, we will check different parameters to provide most optimal results. "
   ]
  },
  {
   "cell_type": "code",
   "execution_count": 102,
   "id": "394101c7",
   "metadata": {},
   "outputs": [],
   "source": [
    "param_grid = {\n",
    "    'max_depth': [5, 10, 20]\n",
    "}"
   ]
  },
  {
   "cell_type": "code",
   "execution_count": 103,
   "id": "45ba1f08",
   "metadata": {},
   "outputs": [],
   "source": [
    "dt = DecisionTreeRegressor()"
   ]
  },
  {
   "cell_type": "code",
   "execution_count": 104,
   "id": "0bbfc162",
   "metadata": {},
   "outputs": [
    {
     "name": "stdout",
     "output_type": "stream",
     "text": [
      "Fitting 5 folds for each of 3 candidates, totalling 15 fits\n"
     ]
    },
    {
     "data": {
      "text/plain": [
       "GridSearchCV(cv=5, estimator=DecisionTreeRegressor(), n_jobs=-1,\n",
       "             param_grid={'max_depth': [5, 10, 20]}, verbose=2)"
      ]
     },
     "execution_count": 104,
     "metadata": {},
     "output_type": "execute_result"
    }
   ],
   "source": [
    "grid_search = GridSearchCV(estimator=dt, param_grid=param_grid, cv=5, n_jobs=-1, verbose=2)\n",
    "grid_search.fit(X,Y)"
   ]
  },
  {
   "cell_type": "code",
   "execution_count": 105,
   "id": "4d22194c",
   "metadata": {},
   "outputs": [
    {
     "data": {
      "text/plain": [
       "{'max_depth': 5}"
      ]
     },
     "execution_count": 105,
     "metadata": {},
     "output_type": "execute_result"
    }
   ],
   "source": [
    "best_params = grid_search.best_params_\n",
    "best_estimator = grid_search.best_estimator_\n",
    "best_params"
   ]
  },
  {
   "cell_type": "code",
   "execution_count": 106,
   "id": "ccfae344",
   "metadata": {},
   "outputs": [
    {
     "data": {
      "text/plain": [
       "DecisionTreeRegressor(max_depth=5)"
      ]
     },
     "execution_count": 106,
     "metadata": {},
     "output_type": "execute_result"
    }
   ],
   "source": [
    "best_estimator.fit(X, Y)"
   ]
  },
  {
   "cell_type": "code",
   "execution_count": 107,
   "id": "ad3d4119",
   "metadata": {},
   "outputs": [
    {
     "name": "stdout",
     "output_type": "stream",
     "text": [
      "AUC Score: 0.5661447363851545\n"
     ]
    }
   ],
   "source": [
    "auc = roc_auc_score(y_val, best_estimator.predict(x_val))\n",
    "print(\"AUC Score:\", auc)"
   ]
  },
  {
   "cell_type": "markdown",
   "id": "eaf65d2f",
   "metadata": {},
   "source": [
    "### Testing on test data"
   ]
  },
  {
   "cell_type": "code",
   "execution_count": 108,
   "id": "73a7f89d",
   "metadata": {},
   "outputs": [],
   "source": [
    "os.chdir('C:\\\\Users\\\\hp\\\\Downloads\\\\senior_ds_test\\\\data\\\\test')"
   ]
  },
  {
   "cell_type": "markdown",
   "id": "be0aaeb6",
   "metadata": {},
   "source": [
    "We will need to preprocess the test data just like we did with the training data to provide the final predictions"
   ]
  },
  {
   "cell_type": "code",
   "execution_count": 109,
   "id": "6cb70285",
   "metadata": {},
   "outputs": [],
   "source": [
    "with open('accounts_data_test.json') as f:\n",
    "   data = json.load(f)\n",
    "\n",
    "flattened_data = [item for sublist in data for item in sublist]\n",
    "accounts_test = pd.DataFrame(flattened_data)"
   ]
  },
  {
   "cell_type": "code",
   "execution_count": 110,
   "id": "d0d877ab",
   "metadata": {},
   "outputs": [],
   "source": [
    "with open('enquiry_data_test.json') as f:\n",
    "   data = json.load(f)\n",
    "\n",
    "flattened_data = [item for sublist in data for item in sublist]\n",
    "enquiry_test = pd.DataFrame(flattened_data)"
   ]
  },
  {
   "cell_type": "code",
   "execution_count": 111,
   "id": "cd61840d",
   "metadata": {},
   "outputs": [],
   "source": [
    "flag_test = pd.read_csv(\"test_flag.csv\")"
   ]
  },
  {
   "cell_type": "code",
   "execution_count": 112,
   "id": "01df5baa",
   "metadata": {},
   "outputs": [],
   "source": [
    "data_test=pd.merge(pd.merge(accounts_test,enquiry_test,on='uid'),flag_test,on='uid')"
   ]
  },
  {
   "cell_type": "code",
   "execution_count": 113,
   "id": "6d102398",
   "metadata": {},
   "outputs": [],
   "source": [
    "data_test.drop_duplicates(subset=['uid'],inplace=True)"
   ]
  },
  {
   "cell_type": "code",
   "execution_count": 114,
   "id": "7c0641b8",
   "metadata": {},
   "outputs": [
    {
     "data": {
      "text/plain": [
       "credit_type                0\n",
       "loan_amount                0\n",
       "amount_overdue             0\n",
       "open_date                  0\n",
       "closed_date            12876\n",
       "payment_hist_string        0\n",
       "uid                        0\n",
       "enquiry_type               0\n",
       "enquiry_amt                0\n",
       "enquiry_date               0\n",
       "NAME_CONTRACT_TYPE         0\n",
       "dtype: int64"
      ]
     },
     "execution_count": 114,
     "metadata": {},
     "output_type": "execute_result"
    }
   ],
   "source": [
    "data_test.isnull().sum()"
   ]
  },
  {
   "cell_type": "code",
   "execution_count": 115,
   "id": "92cb85f2",
   "metadata": {},
   "outputs": [],
   "source": [
    "data_test['closed_date'] = data_test['closed_date'].fillna(0)"
   ]
  },
  {
   "cell_type": "code",
   "execution_count": 116,
   "id": "5bd84a7e",
   "metadata": {},
   "outputs": [],
   "source": [
    "data_test[['credit_type', 'enquiry_type', 'NAME_CONTRACT_TYPE']] = data_test[['credit_type', 'enquiry_type', 'NAME_CONTRACT_TYPE']].apply(lambda x: pd.factorize(x)[0])"
   ]
  },
  {
   "cell_type": "code",
   "execution_count": 117,
   "id": "3605c9b0",
   "metadata": {},
   "outputs": [],
   "source": [
    "data_test['days_overdue'] = data_test['payment_hist_string'].apply(days_overdue)"
   ]
  },
  {
   "cell_type": "code",
   "execution_count": 118,
   "id": "0455c80a",
   "metadata": {},
   "outputs": [],
   "source": [
    "data_test['loan_cleared'] = data_test['closed_date'].apply(lambda x: 0 if x == 0 else 1)"
   ]
  },
  {
   "cell_type": "code",
   "execution_count": 119,
   "id": "9b99d78b",
   "metadata": {},
   "outputs": [],
   "source": [
    "x_test = data_test.drop(['open_date','closed_date', 'uid','enquiry_date','payment_hist_string'], axis = 1)"
   ]
  },
  {
   "cell_type": "code",
   "execution_count": 120,
   "id": "5db1a8f6",
   "metadata": {},
   "outputs": [],
   "source": [
    "y_test=best_estimator.predict(x_test)"
   ]
  },
  {
   "cell_type": "markdown",
   "id": "89e34c6d",
   "metadata": {},
   "source": [
    "We will use the best_estimator which we got after hyperparameter tuning to provide the predictions."
   ]
  },
  {
   "cell_type": "code",
   "execution_count": 121,
   "id": "e906e436",
   "metadata": {},
   "outputs": [],
   "source": [
    "final = pd.DataFrame({'uid': data_test['uid'], 'pred': y_test})"
   ]
  },
  {
   "cell_type": "code",
   "execution_count": 122,
   "id": "4a603d83",
   "metadata": {},
   "outputs": [],
   "source": [
    "final.to_csv('file_submission_Siddhesh_Bagwe.csv')"
   ]
  }
 ],
 "metadata": {
  "kernelspec": {
   "display_name": "Python 3 (ipykernel)",
   "language": "python",
   "name": "python3"
  },
  "language_info": {
   "codemirror_mode": {
    "name": "ipython",
    "version": 3
   },
   "file_extension": ".py",
   "mimetype": "text/x-python",
   "name": "python",
   "nbconvert_exporter": "python",
   "pygments_lexer": "ipython3",
   "version": "3.9.12"
  }
 },
 "nbformat": 4,
 "nbformat_minor": 5
}
